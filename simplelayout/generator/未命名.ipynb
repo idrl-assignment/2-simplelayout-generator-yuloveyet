{
 "cells": [
  {
   "cell_type": "code",
   "execution_count": 174,
   "metadata": {},
   "outputs": [],
   "source": [
    "\"\"\"\n",
    "数据生成的主要逻辑\n",
    "\"\"\"\n",
    "\n",
    "\n",
    "import numpy as np\n",
    "\n",
    "\n",
    "def generate_matrix(\n",
    "    board_grid: int, unit_grid: int, unit_n: int, positions: list\n",
    "):\n",
    "    matrix_samples = np.zeros((board_grid, board_grid), dtype=int)\n",
    "    centre = np.zeros((unit_n, 2), dtype=int)\n",
    "    size = int(unit_grid/2)\n",
    "    nums = board_grid/unit_grid\n",
    "    for k in range(unit_n):\n",
    "        ly = np.mod(positions[k]-1, nums)*unit_grid+size\n",
    "        lx = np.floor((positions[k]-1)/nums)*unit_grid+size\n",
    "        #print (positions[k])\n",
    "        centre[k, :] = [lx, ly]\n",
    "        for i in range(centre[k, 0]-size+1,\n",
    "                       centre[k, 0]+size+1):\n",
    "            for j in range(centre[k, 1]-size+1,\n",
    "                           centre[k, 1]+size+1):\n",
    "                #print (lx,ly,j,i)\n",
    "                matrix_samples[j-1, i-1] = 1\n",
    "\n",
    "    return matrix_samples\n",
    "    \"\"\"生成指定布局矩阵\n",
    "-> np.ndarray\n",
    "    Args:\n",
    "        board_grid (int): 布局板分辨率，代表矩形区域的边长像素数\n",
    "        unit_grid (int): 矩形组件分辨率\n",
    "        unit_n (int): 组件数\n",
    "        positions (list): 每个元素代表每个组件的位置\n",
    "    Returns:\n",
    "        np.ndarray: 布局矩阵\n",
    "    \"\"\"\n",
    "\n",
    "    raise NotImplementedError  # TODO: 实现布局矩阵的生成\n"
   ]
  },
  {
   "cell_type": "code",
   "execution_count": 173,
   "metadata": {},
   "outputs": [
    {
     "name": "stdout",
     "output_type": "stream",
     "text": [
      "1 1.0\n",
      "11 1.0\n"
     ]
    }
   ],
   "source": [
    "print ((np.mod(1-1,5))*10+1, (np.floor(1-1/5))*10+1)\n",
    "print (np.mod(2-1,5)*10+1, np.floor((2-1)/5)*10+1)"
   ]
  },
  {
   "cell_type": "code",
   "execution_count": 177,
   "metadata": {},
   "outputs": [
    {
     "data": {
      "image/png": "[encoded data removed]",
      "text/plain": [
       "<Figure size 900x900 with 1 Axes>"
      ]
     },
     "metadata": {
      "needs_background": "light"
     },
     "output_type": "display_data"
    }
   ],
   "source": [
    "matrix = generate_matrix(100, 10, 3, [1,11,100])\n",
    "fig = plt.figure(figsize=(3, 3), dpi=300)\n",
    "im = plt.imshow(matrix, cmap='Blues')\n",
    "plt.axis('equal')\n",
    "plt.axis('off')\n",
    "plt.show(im)"
   ]
  },
  {
   "cell_type": "code",
   "execution_count": null,
   "metadata": {},
   "outputs": [],
   "source": [
    "print (range(5-5+1,5+5+1,1))\n",
    "for i in range(1,11):\n",
    "    print (i)"
   ]
  },
  {
   "cell_type": "code",
   "execution_count": null,
   "metadata": {},
   "outputs": [],
   "source": []
  },
  {
   "cell_type": "code",
   "execution_count": null,
   "metadata": {},
   "outputs": [],
   "source": [
    "from pathlib import Path\n",
    "import matplotlib.pyplot as plt\n",
    "import scipy.io as sio\n",
    "\n",
    "\n",
    "def save_matrix(matrix, file_name,outdir):\n",
    "    # TODO: 存储 matrix 到 file_name.mat, mdict 的 key 为 \"matrix\"\n",
    "    save_name = Path(outdir, file_name+'.mat')\n",
    "    sio.savemat(save_name, mdict={\"matrix\":matrix})\n",
    "    #raise NotImplementedError\n",
    "\n",
    "\n",
    "def save_fig(matrix, file_name, outdir):\n",
    "    # TODO: 将 matrix 画图保存到 file_name.jpg\n",
    "    fig = plt.figure(figsize=(3, 3), dpi=300)\n",
    "    im = plt.imshow(matrix, cmap='Blues')\n",
    "    plt.axis('equal')\n",
    "    plt.axis('off')\n",
    "    plt.title('simple_layout')\n",
    "    plt.show(im)\n",
    "\n",
    "    save_name = Path(outdir, file_name+'.png')\n",
    "    fig.savefig(save_name, dpi=300)\n",
    "    plt.close()\n",
    "    #raise NotImplementedError\n",
    "\n",
    "\n",
    "def make_dir(outdir):\n",
    "    if not Path(outdir).exists():\n",
    "        Path(outdir).mkdir(parents=True, exist_ok=True)\n",
    "       # 如果 parents 为 false（默认），则找不到的父级目录会导致 FileNotFoundError 被抛出。\n",
    "\n",
    "#如果 exist_ok 为 false（默认），则在目标已存在的情况下抛出 FileExistsError。"
   ]
  },
  {
   "cell_type": "code",
   "execution_count": null,
   "metadata": {},
   "outputs": [],
   "source": [
    "m = np.zeros((10,10))\n",
    "m[5,5] = 1\n",
    "file_name = 'test1'\n",
    "outdir = 'dir1/dir2'\n",
    "make_dir(outdir)\n",
    "save_matrix(m,file_name,outdir)\n",
    "save_fig(m,file_name,outdir)"
   ]
  },
  {
   "cell_type": "code",
   "execution_count": null,
   "metadata": {},
   "outputs": [],
   "source": []
  }
 ],
 "metadata": {
  "kernelspec": {
   "display_name": "Python 3",
   "language": "python",
   "name": "python3"
  },
  "language_info": {
   "codemirror_mode": {
    "name": "ipython",
    "version": 3
   },
   "file_extension": ".py",
   "mimetype": "text/x-python",
   "name": "python",
   "nbconvert_exporter": "python",
   "pygments_lexer": "ipython3",
   "version": "3.8.3"
  }
 },
 "nbformat": 4,
 "nbformat_minor": 4
}
